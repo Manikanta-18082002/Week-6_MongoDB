{
 "cells": [
  {
   "cell_type": "markdown",
   "id": "c1fbfe2c",
   "metadata": {},
   "source": [
    "Q1. What is MongoDB? Explain non-relational databases in short. In which scenarios it is preferred to use\n",
    "MongoDB over SQL databases?"
   ]
  },
  {
   "cell_type": "markdown",
   "id": "b8b11faa",
   "metadata": {},
   "source": [
    "#### MongoDB\n",
    "MongoDB is a NoSQL (non-relational database management system). MongoDB uses a document-oriented data model. In MongoDB, data is stored in flexible, schema-less documents, typically in BSON (Binary JSON) format. Documents can contain nested fields and arrays, making it well-suited for storing and querying hierarchical or semi-structured data.\n",
    "\n",
    "\n",
    "#### Non-Relational Databases:\n",
    "Non-relational databases, often referred to as NoSQL databases, these are designed to handle various types of data, including structured, semi-structured, and unstructured data. They do not deend on the traditional tabular, row-and-column structure of relational databases.\n",
    "\n",
    "1. Data Variety: NoSQL databases handle various data types, including structured, semi-structured, and unstructured data.\n",
    "\n",
    "2. Non-Tabular Structure: They don't rely on the traditional tabular structure of relational databases, making them more flexible in data modeling.\n",
    "\n",
    "3. Scalability: NoSQL databases are often designed for horizontal scalability, allowing for distributed and large-scale data storage.\n",
    "\n",
    "4. Schema Flexibility: They offer schema flexibility, making it easier to adapt to changing data structures and evolving application needs.\n",
    "\n",
    "5. Use Cases: NoSQL databases are suitable for applications dealing with unstructured or rapidly changing data, such as web applications, IoT, and big data analytics.\n",
    "\n",
    "6. Not Ideal for Complex Queries: While NoSQL databases excel in certain scenarios, they may not be the best choice for complex queries and transactions that require strong data consistency.\n"
   ]
  },
  {
   "cell_type": "code",
   "execution_count": null,
   "id": "eca7d43c",
   "metadata": {},
   "outputs": [],
   "source": []
  },
  {
   "cell_type": "markdown",
   "id": "0b120b3a",
   "metadata": {},
   "source": [
    "Q2. State and Explain the features of MongoDB."
   ]
  },
  {
   "cell_type": "markdown",
   "id": "a965656d",
   "metadata": {},
   "source": [
    "Document-Oriented: MongoDB stores data in flexible, JSON-like documents, allowing for hierarchical and semi-structured data.\n",
    "\n",
    "Schema Flexibility: It offers dynamic schema support, making it easy to adapt to changing data requirements without complex migrations.\n",
    "\n",
    "Horizontal Scalability: MongoDB scales horizontally, distributing data across multiple servers or clusters to handle high loads.\n",
    "\n",
    "NoSQL: As a NoSQL database, MongoDB is suitable for unstructured and semi-structured data, with flexible data models.\n",
    "\n",
    "Replication: It supports data replication for high availability and fault tolerance.\n",
    "\n",
    "Aggregation Framework: MongoDB provides a powerful aggregation framework for complex data analysis and reporting.\n",
    "\n",
    "Indexing: Efficient indexing options enhance query performance.\n"
   ]
  },
  {
   "cell_type": "code",
   "execution_count": null,
   "id": "6f326f8d",
   "metadata": {},
   "outputs": [],
   "source": []
  },
  {
   "cell_type": "markdown",
   "id": "ba5ca9de",
   "metadata": {},
   "source": [
    "Q3. Write a code to connect MongoDB to Python. Also, create a database and a collection in MongoDB."
   ]
  },
  {
   "cell_type": "markdown",
   "id": "9263e993",
   "metadata": {},
   "source": [
    "import pymongo # Import the pymongo library\n",
    "\n",
    "client = pymongo.MongoClient(\"mongodb://localhost:27017/\") # Create a MongoClient to connect to the MongoDB server\n",
    "\n",
    "mydb = client[\"mydatabase\"] # Create a database called \"mydatabase\"\n",
    "\n",
    "mycollection = mydb[\"mycollection\"] # Create a collection called \"mycollection\" within the \"mydatabase\"\n",
    "\n"
   ]
  },
  {
   "cell_type": "code",
   "execution_count": null,
   "id": "0b6bd2bf",
   "metadata": {},
   "outputs": [],
   "source": []
  },
  {
   "cell_type": "markdown",
   "id": "3570cd74",
   "metadata": {},
   "source": [
    "Q4. Using the database and the collection created in question number 3, write a code to insert one record,\n",
    "and insert many records. Use the find() and find_one() methods to print the inserted record."
   ]
  },
  {
   "cell_type": "code",
   "execution_count": 4,
   "id": "60c73d3a",
   "metadata": {},
   "outputs": [
    {
     "ename": "ModuleNotFoundError",
     "evalue": "No module named 'pymongo'",
     "output_type": "error",
     "traceback": [
      "\u001b[1;31m---------------------------------------------------------------------------\u001b[0m",
      "\u001b[1;31mModuleNotFoundError\u001b[0m                       Traceback (most recent call last)",
      "Cell \u001b[1;32mIn[4], line 2\u001b[0m\n\u001b[0;32m      1\u001b[0m \u001b[38;5;66;03m# Import the pymongo library\u001b[39;00m\n\u001b[1;32m----> 2\u001b[0m \u001b[38;5;28;01mimport\u001b[39;00m \u001b[38;5;21;01mpymongo\u001b[39;00m\n\u001b[0;32m      4\u001b[0m \u001b[38;5;66;03m# Create a MongoClient to connect to the MongoDB server\u001b[39;00m\n\u001b[0;32m      5\u001b[0m client \u001b[38;5;241m=\u001b[39m pymongo\u001b[38;5;241m.\u001b[39mMongoClient(\u001b[38;5;124m\"\u001b[39m\u001b[38;5;124mmongodb://localhost:27017/\u001b[39m\u001b[38;5;124m\"\u001b[39m)\n",
      "\u001b[1;31mModuleNotFoundError\u001b[0m: No module named 'pymongo'"
     ]
    }
   ],
   "source": [
    "# Import the pymongo library\n",
    "import pymongo\n",
    "\n",
    "# Create a MongoClient to connect to the MongoDB server\n",
    "client = pymongo.MongoClient(\"mongodb://localhost:27017/\")\n",
    "\n",
    "# Create a database called \"mydatabase\"\n",
    "mydb = client[\"mydatabase\"]\n",
    "\n",
    "# Create a collection called \"mycollection\" within the \"mydatabase\"\n",
    "mycollection = mydb[\"mycollection\"]\n",
    "\n",
    "# Insert one record into the collection\n",
    "record_one = {\"name\": \"John\", \"age\": 30}\n",
    "inserted_one = mycollection.insert_one(record_one)\n",
    "\n",
    "# Insert multiple records into the collection\n",
    "records_many = [\n",
    "    {\"name\": \"Mani\", \"age\": 25},\n",
    "    {\"name\": \"Kanta\", \"age\": 35},\n",
    "    {\"name\": \"Reddy\", \"age\": 28}\n",
    "]\n",
    "inserted_many = mycollection.insert_many(records_many)\n",
    "\n",
    "# Find and print the inserted records\n",
    "print(\"Inserted One Record:\")\n",
    "print(mycollection.find_one({\"name\": \"John\"}))\n",
    "\n",
    "print(\"\\nInserted Many Records:\")\n",
    "for record in mycollection.find({\"age\": {\"$gte\": 25}}):\n",
    "    print(record)\n"
   ]
  },
  {
   "cell_type": "code",
   "execution_count": null,
   "id": "5d3ac29f",
   "metadata": {},
   "outputs": [],
   "source": []
  },
  {
   "cell_type": "markdown",
   "id": "dac73108",
   "metadata": {},
   "source": [
    "Q5. Explain how you can use the find() method to query the MongoDB database. Write a simple code to\n",
    "demonstrate this."
   ]
  },
  {
   "cell_type": "markdown",
   "id": "ce9d6f76",
   "metadata": {},
   "source": [
    "The find() method in MongoDB is used to query a database collection and retrieve documents that match a specified query criteria. It returns a cursor that can be iterated to access the matching documents.\n",
    "\n",
    "having a MongoDB collection named \"mycollection\" with documents \n",
    "[\n",
    "    {\"name\": \"Mani\", \"age\": 30},\n",
    "    {\"name\": \"Kanta\", \"age\": 25},\n",
    "    {\"name\": \"Reddy\", \"age\": 35}\n",
    "]\n",
    "find() method to execute the query and retrieve matching documents.\n",
    "\n",
    "query = {\"age\": {\"$gte\": 30}}\n",
    "\n",
    "# Using the find() method to retrieve matching documents\n",
    "cursor = mycollection.find(query)\n",
    "\n",
    "# Iterating through the cursor and print the matching documents\n",
    "for document in cursor:\n",
    "    print(document)"
   ]
  },
  {
   "cell_type": "code",
   "execution_count": null,
   "id": "0f023fb7",
   "metadata": {},
   "outputs": [],
   "source": []
  },
  {
   "cell_type": "markdown",
   "id": "9d77725e",
   "metadata": {},
   "source": [
    "Q6. Explain the sort() method. Give an example to demonstrate sorting in MongoDB."
   ]
  },
  {
   "cell_type": "code",
   "execution_count": 5,
   "id": "3e960149",
   "metadata": {},
   "outputs": [
    {
     "ename": "ModuleNotFoundError",
     "evalue": "No module named 'pymongo'",
     "output_type": "error",
     "traceback": [
      "\u001b[1;31m---------------------------------------------------------------------------\u001b[0m",
      "\u001b[1;31mModuleNotFoundError\u001b[0m                       Traceback (most recent call last)",
      "Cell \u001b[1;32mIn[5], line 5\u001b[0m\n\u001b[0;32m      1\u001b[0m \u001b[38;5;66;03m#The sort() method in MongoDB is used to specify the sorting order of the documents returned by a query. It allows you to sort documents based on one or more fields in ascending or descending order. \u001b[39;00m\n\u001b[0;32m      2\u001b[0m \n\u001b[0;32m      3\u001b[0m \u001b[38;5;66;03m# By consdering the above DB\u001b[39;00m\n\u001b[1;32m----> 5\u001b[0m \u001b[38;5;28;01mimport\u001b[39;00m \u001b[38;5;21;01mpymongo\u001b[39;00m\n\u001b[0;32m      7\u001b[0m \u001b[38;5;66;03m# Creating a MongoClient to connect to the MongoDB server\u001b[39;00m\n\u001b[0;32m      8\u001b[0m client \u001b[38;5;241m=\u001b[39m pymongo\u001b[38;5;241m.\u001b[39mMongoClient(\u001b[38;5;124m\"\u001b[39m\u001b[38;5;124mmongodb://localhost:27017/\u001b[39m\u001b[38;5;124m\"\u001b[39m)\n",
      "\u001b[1;31mModuleNotFoundError\u001b[0m: No module named 'pymongo'"
     ]
    }
   ],
   "source": [
    "#The sort() method in MongoDB is used to specify the sorting order of the documents returned by a query. It allows you to sort documents based on one or more fields in ascending or descending order. \n",
    "\n",
    "# By consdering the above DB\n",
    "\n",
    "import pymongo\n",
    "\n",
    "# Creating a MongoClient to connect to the MongoDB server\n",
    "client = pymongo.MongoClient(\"mongodb://localhost:27017/\")\n",
    "\n",
    "# Accessing the \"mydatabase\" and \"mycollection\"\n",
    "mydb = client[\"mydatabase\"]\n",
    "mycollection = mydb[\"mycollection\"]\n",
    "\n",
    "#Empty qyery to retrieve all documents\n",
    "query = {}\n",
    "\n",
    "# Use the find() method to retrieve documents and sort them by age in ascending order\n",
    "cursor = mycollection.find(query).sort(\"age\", 1)\n",
    "\n",
    "# Iterate through the cursor and print the sorted documents\n",
    "for document in cursor:\n",
    "    print(document)\n"
   ]
  },
  {
   "cell_type": "code",
   "execution_count": null,
   "id": "7d2f3948",
   "metadata": {},
   "outputs": [],
   "source": []
  },
  {
   "cell_type": "markdown",
   "id": "c52d7d6d",
   "metadata": {},
   "source": [
    "Q7. Explain why delete_one(), delete_many(), and drop() is used."
   ]
  },
  {
   "cell_type": "markdown",
   "id": "b7c339cf",
   "metadata": {},
   "source": [
    "### delete_one():\n",
    "\n",
    "Purpose: Deletes a single document that matches a specified filter/query.\n",
    "Use Case: Useful when you want to remove one specific document that meets certain criteria.\n",
    "Example: Deleting a single user's record based on their unique ID.\n",
    "\n",
    "\n",
    "### delete_many():\n",
    "Purpose: Deletes multiple documents that match a specified filter/query.\n",
    "Use Case: Helpful when you want to remove several documents that share a common attribute or meet specific conditions.\n",
    "Example: Deleting all documents with a \"status\" field set to \"inactive.\"\n",
    "\n",
    "\n",
    "### drop():\n",
    "Purpose: Removes an entire collection (similar to a table in SQL), including all of its documents.\n",
    "Use Case: Typically used sparingly because it deletes all data within the collection.\n",
    "Example: Dropping a collection when you no longer need it or as part of a data cleanup process.\n",
    "\n",
    "SIMPLY: delete_one() and delete_many() are used to selectively remove documents from a collection based on specific criteria, while drop() is used to delete an entire collection and all of its contents. "
   ]
  },
  {
   "cell_type": "code",
   "execution_count": null,
   "id": "ff481d96",
   "metadata": {},
   "outputs": [],
   "source": []
  },
  {
   "cell_type": "code",
   "execution_count": null,
   "id": "28d414f7",
   "metadata": {},
   "outputs": [],
   "source": []
  }
 ],
 "metadata": {
  "kernelspec": {
   "display_name": "Python 3 (ipykernel)",
   "language": "python",
   "name": "python3"
  },
  "language_info": {
   "codemirror_mode": {
    "name": "ipython",
    "version": 3
   },
   "file_extension": ".py",
   "mimetype": "text/x-python",
   "name": "python",
   "nbconvert_exporter": "python",
   "pygments_lexer": "ipython3",
   "version": "3.11.4"
  }
 },
 "nbformat": 4,
 "nbformat_minor": 5
}
